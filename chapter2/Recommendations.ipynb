{
 "cells": [
  {
   "cell_type": "code",
   "execution_count": 1,
   "metadata": {},
   "outputs": [],
   "source": [
    "import pandas as pd\n",
    "import altair as alt\n",
    "import seaborn as sns\n",
    "import numpy as np\n",
    "import scipy as sp\n",
    "import recommendations as rd"
   ]
  },
  {
   "cell_type": "markdown",
   "metadata": {},
   "source": [
    "## 协作型过滤\n",
    "\n",
    "### 搜集偏好"
   ]
  },
  {
   "cell_type": "code",
   "execution_count": 32,
   "metadata": {},
   "outputs": [
    {
     "data": {
      "text/plain": [
       "<module 'recommendations' from '/home/xashes/Workspace/fork/programming-collective-intelligence-code/chapter2/recommendations.py'>"
      ]
     },
     "execution_count": 32,
     "metadata": {},
     "output_type": "execute_result"
    }
   ],
   "source": [
    "from imp import reload\n",
    "reload(rd)"
   ]
  },
  {
   "cell_type": "code",
   "execution_count": 33,
   "metadata": {},
   "outputs": [
    {
     "data": {
      "text/html": [
       "<div>\n",
       "<style scoped>\n",
       "    .dataframe tbody tr th:only-of-type {\n",
       "        vertical-align: middle;\n",
       "    }\n",
       "\n",
       "    .dataframe tbody tr th {\n",
       "        vertical-align: top;\n",
       "    }\n",
       "\n",
       "    .dataframe thead th {\n",
       "        text-align: right;\n",
       "    }\n",
       "</style>\n",
       "<table border=\"1\" class=\"dataframe\">\n",
       "  <thead>\n",
       "    <tr style=\"text-align: right;\">\n",
       "      <th></th>\n",
       "      <th>Lisa Rose</th>\n",
       "      <th>Gene Seymour</th>\n",
       "      <th>Michael Phillips</th>\n",
       "      <th>Claudia Puig</th>\n",
       "      <th>Mick LaSalle</th>\n",
       "      <th>Jack Matthews</th>\n",
       "      <th>Toby</th>\n",
       "    </tr>\n",
       "  </thead>\n",
       "  <tbody>\n",
       "    <tr>\n",
       "      <th>Just My Luck</th>\n",
       "      <td>3.0</td>\n",
       "      <td>1.5</td>\n",
       "      <td>NaN</td>\n",
       "      <td>3.0</td>\n",
       "      <td>2.0</td>\n",
       "      <td>NaN</td>\n",
       "      <td>NaN</td>\n",
       "    </tr>\n",
       "    <tr>\n",
       "      <th>Lady in the Water</th>\n",
       "      <td>2.5</td>\n",
       "      <td>3.0</td>\n",
       "      <td>2.5</td>\n",
       "      <td>NaN</td>\n",
       "      <td>3.0</td>\n",
       "      <td>3.0</td>\n",
       "      <td>NaN</td>\n",
       "    </tr>\n",
       "    <tr>\n",
       "      <th>Snakes on a Plane</th>\n",
       "      <td>3.5</td>\n",
       "      <td>3.5</td>\n",
       "      <td>3.0</td>\n",
       "      <td>3.5</td>\n",
       "      <td>4.0</td>\n",
       "      <td>4.0</td>\n",
       "      <td>4.5</td>\n",
       "    </tr>\n",
       "    <tr>\n",
       "      <th>Superman Returns</th>\n",
       "      <td>3.5</td>\n",
       "      <td>5.0</td>\n",
       "      <td>3.5</td>\n",
       "      <td>4.0</td>\n",
       "      <td>3.0</td>\n",
       "      <td>5.0</td>\n",
       "      <td>4.0</td>\n",
       "    </tr>\n",
       "    <tr>\n",
       "      <th>The Night Listener</th>\n",
       "      <td>3.0</td>\n",
       "      <td>3.0</td>\n",
       "      <td>4.0</td>\n",
       "      <td>4.5</td>\n",
       "      <td>3.0</td>\n",
       "      <td>3.0</td>\n",
       "      <td>NaN</td>\n",
       "    </tr>\n",
       "    <tr>\n",
       "      <th>You, Me and Dupree</th>\n",
       "      <td>2.5</td>\n",
       "      <td>3.5</td>\n",
       "      <td>NaN</td>\n",
       "      <td>2.5</td>\n",
       "      <td>2.0</td>\n",
       "      <td>3.5</td>\n",
       "      <td>1.0</td>\n",
       "    </tr>\n",
       "  </tbody>\n",
       "</table>\n",
       "</div>"
      ],
      "text/plain": [
       "                    Lisa Rose  Gene Seymour  Michael Phillips  Claudia Puig  \\\n",
       "Just My Luck              3.0           1.5               NaN           3.0   \n",
       "Lady in the Water         2.5           3.0               2.5           NaN   \n",
       "Snakes on a Plane         3.5           3.5               3.0           3.5   \n",
       "Superman Returns          3.5           5.0               3.5           4.0   \n",
       "The Night Listener        3.0           3.0               4.0           4.5   \n",
       "You, Me and Dupree        2.5           3.5               NaN           2.5   \n",
       "\n",
       "                    Mick LaSalle  Jack Matthews  Toby  \n",
       "Just My Luck                 2.0            NaN   NaN  \n",
       "Lady in the Water            3.0            3.0   NaN  \n",
       "Snakes on a Plane            4.0            4.0   4.5  \n",
       "Superman Returns             3.0            5.0   4.0  \n",
       "The Night Listener           3.0            3.0   NaN  \n",
       "You, Me and Dupree           2.0            3.5   1.0  "
      ]
     },
     "execution_count": 33,
     "metadata": {},
     "output_type": "execute_result"
    }
   ],
   "source": [
    "critics = rd.critics.copy()\n",
    "critics"
   ]
  },
  {
   "cell_type": "code",
   "execution_count": 4,
   "metadata": {},
   "outputs": [
    {
     "data": {
      "text/html": [
       "<div>\n",
       "<style scoped>\n",
       "    .dataframe tbody tr th:only-of-type {\n",
       "        vertical-align: middle;\n",
       "    }\n",
       "\n",
       "    .dataframe tbody tr th {\n",
       "        vertical-align: top;\n",
       "    }\n",
       "\n",
       "    .dataframe thead th {\n",
       "        text-align: right;\n",
       "    }\n",
       "</style>\n",
       "<table border=\"1\" class=\"dataframe\">\n",
       "  <thead>\n",
       "    <tr style=\"text-align: right;\">\n",
       "      <th></th>\n",
       "      <th>person</th>\n",
       "      <th>movie</th>\n",
       "      <th>score</th>\n",
       "    </tr>\n",
       "  </thead>\n",
       "  <tbody>\n",
       "    <tr>\n",
       "      <th>0</th>\n",
       "      <td>Lisa Rose</td>\n",
       "      <td>Just My Luck</td>\n",
       "      <td>3.0</td>\n",
       "    </tr>\n",
       "    <tr>\n",
       "      <th>1</th>\n",
       "      <td>Gene Seymour</td>\n",
       "      <td>Just My Luck</td>\n",
       "      <td>1.5</td>\n",
       "    </tr>\n",
       "    <tr>\n",
       "      <th>2</th>\n",
       "      <td>Michael Phillips</td>\n",
       "      <td>Just My Luck</td>\n",
       "      <td>NaN</td>\n",
       "    </tr>\n",
       "    <tr>\n",
       "      <th>3</th>\n",
       "      <td>Claudia Puig</td>\n",
       "      <td>Just My Luck</td>\n",
       "      <td>3.0</td>\n",
       "    </tr>\n",
       "    <tr>\n",
       "      <th>4</th>\n",
       "      <td>Mick LaSalle</td>\n",
       "      <td>Just My Luck</td>\n",
       "      <td>2.0</td>\n",
       "    </tr>\n",
       "  </tbody>\n",
       "</table>\n",
       "</div>"
      ],
      "text/plain": [
       "             person         movie  score\n",
       "0         Lisa Rose  Just My Luck    3.0\n",
       "1      Gene Seymour  Just My Luck    1.5\n",
       "2  Michael Phillips  Just My Luck    NaN\n",
       "3      Claudia Puig  Just My Luck    3.0\n",
       "4      Mick LaSalle  Just My Luck    2.0"
      ]
     },
     "execution_count": 4,
     "metadata": {},
     "output_type": "execute_result"
    }
   ],
   "source": [
    "critics_long_form = pd.melt(critics.T.reset_index(), id_vars=['index'], value_name='score', var_name='movie'\n",
    "                           ).rename(columns={'index': 'person'})\n",
    "critics_long_form.head()"
   ]
  },
  {
   "cell_type": "code",
   "execution_count": 5,
   "metadata": {},
   "outputs": [
    {
     "data": {
      "application/vnd.vegalite.v2+json": {
       "$schema": "https://vega.github.io/schema/vega-lite/v2.6.0.json",
       "config": {
        "view": {
         "height": 300,
         "width": 400
        }
       },
       "datasets": {
        "data-3c523aadcf62434b1cf46c3727b3824b": [
         {
          "movie": "Just My Luck",
          "person": "Lisa Rose",
          "score": 3
         },
         {
          "movie": "Just My Luck",
          "person": "Gene Seymour",
          "score": 1.5
         },
         {
          "movie": "Just My Luck",
          "person": "Michael Phillips",
          "score": null
         },
         {
          "movie": "Just My Luck",
          "person": "Claudia Puig",
          "score": 3
         },
         {
          "movie": "Just My Luck",
          "person": "Mick LaSalle",
          "score": 2
         },
         {
          "movie": "Just My Luck",
          "person": "Jack Matthews",
          "score": null
         },
         {
          "movie": "Just My Luck",
          "person": "Toby",
          "score": null
         },
         {
          "movie": "Lady in the Water",
          "person": "Lisa Rose",
          "score": 2.5
         },
         {
          "movie": "Lady in the Water",
          "person": "Gene Seymour",
          "score": 3
         },
         {
          "movie": "Lady in the Water",
          "person": "Michael Phillips",
          "score": 2.5
         },
         {
          "movie": "Lady in the Water",
          "person": "Claudia Puig",
          "score": null
         },
         {
          "movie": "Lady in the Water",
          "person": "Mick LaSalle",
          "score": 3
         },
         {
          "movie": "Lady in the Water",
          "person": "Jack Matthews",
          "score": 3
         },
         {
          "movie": "Lady in the Water",
          "person": "Toby",
          "score": null
         },
         {
          "movie": "Snakes on a Plane",
          "person": "Lisa Rose",
          "score": 3.5
         },
         {
          "movie": "Snakes on a Plane",
          "person": "Gene Seymour",
          "score": 3.5
         },
         {
          "movie": "Snakes on a Plane",
          "person": "Michael Phillips",
          "score": 3
         },
         {
          "movie": "Snakes on a Plane",
          "person": "Claudia Puig",
          "score": 3.5
         },
         {
          "movie": "Snakes on a Plane",
          "person": "Mick LaSalle",
          "score": 4
         },
         {
          "movie": "Snakes on a Plane",
          "person": "Jack Matthews",
          "score": 4
         },
         {
          "movie": "Snakes on a Plane",
          "person": "Toby",
          "score": 4.5
         },
         {
          "movie": "Superman Returns",
          "person": "Lisa Rose",
          "score": 3.5
         },
         {
          "movie": "Superman Returns",
          "person": "Gene Seymour",
          "score": 5
         },
         {
          "movie": "Superman Returns",
          "person": "Michael Phillips",
          "score": 3.5
         },
         {
          "movie": "Superman Returns",
          "person": "Claudia Puig",
          "score": 4
         },
         {
          "movie": "Superman Returns",
          "person": "Mick LaSalle",
          "score": 3
         },
         {
          "movie": "Superman Returns",
          "person": "Jack Matthews",
          "score": 5
         },
         {
          "movie": "Superman Returns",
          "person": "Toby",
          "score": 4
         },
         {
          "movie": "The Night Listener",
          "person": "Lisa Rose",
          "score": 3
         },
         {
          "movie": "The Night Listener",
          "person": "Gene Seymour",
          "score": 3
         },
         {
          "movie": "The Night Listener",
          "person": "Michael Phillips",
          "score": 4
         },
         {
          "movie": "The Night Listener",
          "person": "Claudia Puig",
          "score": 4.5
         },
         {
          "movie": "The Night Listener",
          "person": "Mick LaSalle",
          "score": 3
         },
         {
          "movie": "The Night Listener",
          "person": "Jack Matthews",
          "score": 3
         },
         {
          "movie": "The Night Listener",
          "person": "Toby",
          "score": null
         },
         {
          "movie": "You, Me and Dupree",
          "person": "Lisa Rose",
          "score": 2.5
         },
         {
          "movie": "You, Me and Dupree",
          "person": "Gene Seymour",
          "score": 3.5
         },
         {
          "movie": "You, Me and Dupree",
          "person": "Michael Phillips",
          "score": null
         },
         {
          "movie": "You, Me and Dupree",
          "person": "Claudia Puig",
          "score": 2.5
         },
         {
          "movie": "You, Me and Dupree",
          "person": "Mick LaSalle",
          "score": 2
         },
         {
          "movie": "You, Me and Dupree",
          "person": "Jack Matthews",
          "score": 3.5
         },
         {
          "movie": "You, Me and Dupree",
          "person": "Toby",
          "score": 1
         }
        ]
       },
       "layer": [
        {
         "data": {
          "name": "data-3c523aadcf62434b1cf46c3727b3824b"
         },
         "encoding": {
          "color": {
           "field": "person",
           "type": "nominal"
          },
          "tooltip": [
           {
            "field": "person",
            "type": "nominal"
           },
           {
            "field": "movie",
            "type": "nominal"
           },
           {
            "field": "score",
            "type": "quantitative"
           }
          ],
          "x": {
           "axis": {
            "labelAngle": -20
           },
           "field": "movie",
           "type": "nominal"
          },
          "y": {
           "field": "score",
           "type": "quantitative"
          }
         },
         "mark": "point",
         "width": 300
        },
        {
         "data": {
          "name": "data-3c523aadcf62434b1cf46c3727b3824b"
         },
         "encoding": {
          "x": {
           "axis": {
            "labelAngle": -20
           },
           "field": "movie",
           "type": "nominal"
          },
          "y": {
           "aggregate": "mean",
           "field": "score",
           "type": "quantitative"
          }
         },
         "mark": {
          "opacity": 0.7,
          "type": "line"
         },
         "width": 300
        }
       ]
      },
      "image/png": "[encoded data removed]",
      "text/plain": [
       "<VegaLite 2 object>\n",
       "\n",
       "If you see this message, it means the renderer has not been properly enabled\n",
       "for the frontend that you are using. For more information, see\n",
       "https://altair-viz.github.io/user_guide/troubleshooting.html\n"
      ]
     },
     "execution_count": 5,
     "metadata": {},
     "output_type": "execute_result"
    }
   ],
   "source": [
    "base = alt.Chart(critics_long_form).encode(\n",
    "    alt.X('movie:N', axis=alt.Axis(labelAngle=-20))    \n",
    ").properties(\n",
    "    width=300\n",
    ")\n",
    "movie = base.mark_point().encode(\n",
    "    alt.Y('score:Q'),\n",
    "    color=alt.Color('person:N'),\n",
    "    tooltip=['person', 'movie', 'score'],\n",
    ")\n",
    "\n",
    "line = base.mark_line(opacity=0.7).encode(\n",
    "    alt.Y('mean(score):Q')\n",
    ")\n",
    "movie + line"
   ]
  },
  {
   "cell_type": "markdown",
   "metadata": {},
   "source": [
    "### 寻找相近的用户\n",
    "\n",
    "#### 计算相似度评价值的体系\n",
    "    - 欧几里得距离\n",
    "    - 皮尔逊相关度\n",
    "\n",
    "##### Euclidean Distance Score\n",
    "    以经过人们一致评价的物品作为坐标轴，然后将参与评价的人绘制到图上，并考查其彼此间的距离。\n",
    "    下图显示了处于“偏好空间”中的人们的分布情况："
   ]
  },
  {
   "cell_type": "code",
   "execution_count": 6,
   "metadata": {},
   "outputs": [
    {
     "data": {
      "application/vnd.vegalite.v2+json": {
       "$schema": "https://vega.github.io/schema/vega-lite/v2.6.0.json",
       "config": {
        "view": {
         "height": 300,
         "width": 400
        }
       },
       "data": {
        "name": "data-b9899ebc6524436f31c27ca7ac1a1e01"
       },
       "datasets": {
        "data-b9899ebc6524436f31c27ca7ac1a1e01": [
         {
          "Just My Luck": 3,
          "Lady in the Water": 2.5,
          "Snakes on a Plane": 3.5,
          "Superman Returns": 3.5,
          "The Night Listener": 3,
          "You, Me and Dupree": 2.5,
          "person": "Lisa Rose"
         },
         {
          "Just My Luck": 1.5,
          "Lady in the Water": 3,
          "Snakes on a Plane": 3.5,
          "Superman Returns": 5,
          "The Night Listener": 3,
          "You, Me and Dupree": 3.5,
          "person": "Gene Seymour"
         },
         {
          "Just My Luck": null,
          "Lady in the Water": 2.5,
          "Snakes on a Plane": 3,
          "Superman Returns": 3.5,
          "The Night Listener": 4,
          "You, Me and Dupree": null,
          "person": "Michael Phillips"
         },
         {
          "Just My Luck": 3,
          "Lady in the Water": null,
          "Snakes on a Plane": 3.5,
          "Superman Returns": 4,
          "The Night Listener": 4.5,
          "You, Me and Dupree": 2.5,
          "person": "Claudia Puig"
         },
         {
          "Just My Luck": 2,
          "Lady in the Water": 3,
          "Snakes on a Plane": 4,
          "Superman Returns": 3,
          "The Night Listener": 3,
          "You, Me and Dupree": 2,
          "person": "Mick LaSalle"
         },
         {
          "Just My Luck": null,
          "Lady in the Water": 3,
          "Snakes on a Plane": 4,
          "Superman Returns": 5,
          "The Night Listener": 3,
          "You, Me and Dupree": 3.5,
          "person": "Jack Matthews"
         },
         {
          "Just My Luck": null,
          "Lady in the Water": null,
          "Snakes on a Plane": 4.5,
          "Superman Returns": 4,
          "The Night Listener": null,
          "You, Me and Dupree": 1,
          "person": "Toby"
         }
        ]
       },
       "encoding": {
        "color": {
         "field": "person",
         "type": "nominal"
        },
        "tooltip": [
         {
          "field": "person",
          "type": "nominal"
         }
        ],
        "x": {
         "field": "You, Me and Dupree",
         "scale": {
          "domain": [
           0,
           5
          ]
         },
         "type": "quantitative"
        },
        "y": {
         "field": "Snakes on a Plane",
         "scale": {
          "domain": [
           2,
           5
          ]
         },
         "type": "quantitative"
        }
       },
       "height": 150,
       "mark": {
        "size": 120,
        "type": "point"
       },
       "width": 300
      },
      "image/png": "[encoded data removed]",
      "text/plain": [
       "<VegaLite 2 object>\n",
       "\n",
       "If you see this message, it means the renderer has not been properly enabled\n",
       "for the frontend that you are using. For more information, see\n",
       "https://altair-viz.github.io/user_guide/troubleshooting.html\n"
      ]
     },
     "execution_count": 6,
     "metadata": {},
     "output_type": "execute_result"
    }
   ],
   "source": [
    "alt.Chart(critics.T.reset_index().rename(columns={'index':'person'})).mark_point(size=120).encode(\n",
    "    alt.X('You, Me and Dupree', scale=alt.Scale(domain=[0, 5])),\n",
    "    alt.Y('Snakes on a Plane', scale=alt.Scale(domain=[2, 5])),\n",
    "    color='person:N',\n",
    "    tooltip=['person']\n",
    ").properties(width=300, height=150)"
   ]
  },
  {
   "cell_type": "code",
   "execution_count": 7,
   "metadata": {},
   "outputs": [
    {
     "data": {
      "text/plain": [
       "0.29429805508554946"
      ]
     },
     "execution_count": 7,
     "metadata": {},
     "output_type": "execute_result"
    }
   ],
   "source": [
    "rd.sim_distance(critics, 'Lisa Rose', 'Gene Seymour')"
   ]
  },
  {
   "cell_type": "markdown",
   "metadata": {},
   "source": [
    "##### Pearson 相关系数\n",
    "    判断两组数据与某一直线的拟合程度。在数据不是很规范（normalized）的时候，会倾向于给出更好的结果。\n",
    "    其亦有修正“夸大分值（grade inflation）”的作用。这一行为是否是想要的结果，要取决于具体的应用场景。\n",
    "    现成可用的函数:\n",
    "```\n",
    "df.corr(method='pearson')\n",
    "scipy.stats.pearsonr(arr1, arr2)\n",
    "```"
   ]
  },
  {
   "cell_type": "code",
   "execution_count": 176,
   "metadata": {},
   "outputs": [
    {
     "data": {
      "text/plain": [
       "<seaborn.axisgrid.FacetGrid at 0x7f5326d2fac8>"
      ]
     },
     "execution_count": 176,
     "metadata": {},
     "output_type": "execute_result"
    },
    {
     "data": {
      "image/png": "[encoded data removed]",
      "text/plain": [
       "<Figure size 360x360 with 1 Axes>"
      ]
     },
     "metadata": {},
     "output_type": "display_data"
    }
   ],
   "source": [
    "sns.lmplot('Lisa Rose', 'Gene Seymour', data=critics)"
   ]
  },
  {
   "cell_type": "code",
   "execution_count": 8,
   "metadata": {},
   "outputs": [
    {
     "data": {
      "text/html": [
       "<div>\n",
       "<style scoped>\n",
       "    .dataframe tbody tr th:only-of-type {\n",
       "        vertical-align: middle;\n",
       "    }\n",
       "\n",
       "    .dataframe tbody tr th {\n",
       "        vertical-align: top;\n",
       "    }\n",
       "\n",
       "    .dataframe thead th {\n",
       "        text-align: right;\n",
       "    }\n",
       "</style>\n",
       "<table border=\"1\" class=\"dataframe\">\n",
       "  <thead>\n",
       "    <tr style=\"text-align: right;\">\n",
       "      <th></th>\n",
       "      <th>Lisa Rose</th>\n",
       "      <th>Gene Seymour</th>\n",
       "      <th>Michael Phillips</th>\n",
       "      <th>Claudia Puig</th>\n",
       "      <th>Mick LaSalle</th>\n",
       "      <th>Jack Matthews</th>\n",
       "      <th>Toby</th>\n",
       "    </tr>\n",
       "  </thead>\n",
       "  <tbody>\n",
       "    <tr>\n",
       "      <th>Lisa Rose</th>\n",
       "      <td>1.000000</td>\n",
       "      <td>0.396059</td>\n",
       "      <td>0.404520</td>\n",
       "      <td>0.566947</td>\n",
       "      <td>0.594089</td>\n",
       "      <td>0.747018</td>\n",
       "      <td>0.991241</td>\n",
       "    </tr>\n",
       "    <tr>\n",
       "      <th>Gene Seymour</th>\n",
       "      <td>0.396059</td>\n",
       "      <td>1.000000</td>\n",
       "      <td>0.204598</td>\n",
       "      <td>0.314970</td>\n",
       "      <td>0.411765</td>\n",
       "      <td>0.963796</td>\n",
       "      <td>0.381246</td>\n",
       "    </tr>\n",
       "    <tr>\n",
       "      <th>Michael Phillips</th>\n",
       "      <td>0.404520</td>\n",
       "      <td>0.204598</td>\n",
       "      <td>1.000000</td>\n",
       "      <td>1.000000</td>\n",
       "      <td>-0.258199</td>\n",
       "      <td>0.134840</td>\n",
       "      <td>-1.000000</td>\n",
       "    </tr>\n",
       "    <tr>\n",
       "      <th>Claudia Puig</th>\n",
       "      <td>0.566947</td>\n",
       "      <td>0.314970</td>\n",
       "      <td>1.000000</td>\n",
       "      <td>1.000000</td>\n",
       "      <td>0.566947</td>\n",
       "      <td>0.028571</td>\n",
       "      <td>0.893405</td>\n",
       "    </tr>\n",
       "    <tr>\n",
       "      <th>Mick LaSalle</th>\n",
       "      <td>0.594089</td>\n",
       "      <td>0.411765</td>\n",
       "      <td>-0.258199</td>\n",
       "      <td>0.566947</td>\n",
       "      <td>1.000000</td>\n",
       "      <td>0.211289</td>\n",
       "      <td>0.924473</td>\n",
       "    </tr>\n",
       "    <tr>\n",
       "      <th>Jack Matthews</th>\n",
       "      <td>0.747018</td>\n",
       "      <td>0.963796</td>\n",
       "      <td>0.134840</td>\n",
       "      <td>0.028571</td>\n",
       "      <td>0.211289</td>\n",
       "      <td>1.000000</td>\n",
       "      <td>0.662849</td>\n",
       "    </tr>\n",
       "    <tr>\n",
       "      <th>Toby</th>\n",
       "      <td>0.991241</td>\n",
       "      <td>0.381246</td>\n",
       "      <td>-1.000000</td>\n",
       "      <td>0.893405</td>\n",
       "      <td>0.924473</td>\n",
       "      <td>0.662849</td>\n",
       "      <td>1.000000</td>\n",
       "    </tr>\n",
       "  </tbody>\n",
       "</table>\n",
       "</div>"
      ],
      "text/plain": [
       "                  Lisa Rose  Gene Seymour  Michael Phillips  Claudia Puig  \\\n",
       "Lisa Rose          1.000000      0.396059          0.404520      0.566947   \n",
       "Gene Seymour       0.396059      1.000000          0.204598      0.314970   \n",
       "Michael Phillips   0.404520      0.204598          1.000000      1.000000   \n",
       "Claudia Puig       0.566947      0.314970          1.000000      1.000000   \n",
       "Mick LaSalle       0.594089      0.411765         -0.258199      0.566947   \n",
       "Jack Matthews      0.747018      0.963796          0.134840      0.028571   \n",
       "Toby               0.991241      0.381246         -1.000000      0.893405   \n",
       "\n",
       "                  Mick LaSalle  Jack Matthews      Toby  \n",
       "Lisa Rose             0.594089       0.747018  0.991241  \n",
       "Gene Seymour          0.411765       0.963796  0.381246  \n",
       "Michael Phillips     -0.258199       0.134840 -1.000000  \n",
       "Claudia Puig          0.566947       0.028571  0.893405  \n",
       "Mick LaSalle          1.000000       0.211289  0.924473  \n",
       "Jack Matthews         0.211289       1.000000  0.662849  \n",
       "Toby                  0.924473       0.662849  1.000000  "
      ]
     },
     "execution_count": 8,
     "metadata": {},
     "output_type": "execute_result"
    }
   ],
   "source": [
    "critics.corr(method='pearson')"
   ]
  },
  {
   "cell_type": "code",
   "execution_count": 9,
   "metadata": {},
   "outputs": [
    {
     "data": {
      "text/plain": [
       "(0.39605901719066977, 0.43697492654267506)"
      ]
     },
     "execution_count": 9,
     "metadata": {},
     "output_type": "execute_result"
    }
   ],
   "source": [
    "sp.stats.pearsonr(critics['Lisa Rose'], critics['Gene Seymour'])"
   ]
  },
  {
   "cell_type": "code",
   "execution_count": 10,
   "metadata": {},
   "outputs": [
    {
     "data": {
      "text/plain": [
       "0.747017880833996"
      ]
     },
     "execution_count": 10,
     "metadata": {},
     "output_type": "execute_result"
    }
   ],
   "source": [
    "rd.sim_pearson(critics, 'Lisa Rose', 'Jack Matthews')"
   ]
  },
  {
   "cell_type": "markdown",
   "metadata": {},
   "source": [
    "### Ranking the Critics"
   ]
  },
  {
   "cell_type": "code",
   "execution_count": 14,
   "metadata": {},
   "outputs": [
    {
     "data": {
      "text/plain": [
       "[(0.9912407071619304, 'Lisa Rose'),\n",
       " (0.924473451641905, 'Mick LaSalle'),\n",
       " (0.8934051474415644, 'Claudia Puig')]"
      ]
     },
     "execution_count": 14,
     "metadata": {},
     "output_type": "execute_result"
    }
   ],
   "source": [
    "rd.topMatches(critics, 'Toby', n=3)"
   ]
  },
  {
   "cell_type": "markdown",
   "metadata": {},
   "source": [
    "### Racommending Items"
   ]
  },
  {
   "cell_type": "code",
   "execution_count": 84,
   "metadata": {},
   "outputs": [
    {
     "data": {
      "text/html": [
       "<div>\n",
       "<style scoped>\n",
       "    .dataframe tbody tr th:only-of-type {\n",
       "        vertical-align: middle;\n",
       "    }\n",
       "\n",
       "    .dataframe tbody tr th {\n",
       "        vertical-align: top;\n",
       "    }\n",
       "\n",
       "    .dataframe thead th {\n",
       "        text-align: right;\n",
       "    }\n",
       "</style>\n",
       "<table border=\"1\" class=\"dataframe\">\n",
       "  <thead>\n",
       "    <tr style=\"text-align: right;\">\n",
       "      <th></th>\n",
       "      <th>Just My Luck</th>\n",
       "      <th>Lady in the Water</th>\n",
       "      <th>Snakes on a Plane</th>\n",
       "      <th>Superman Returns</th>\n",
       "      <th>The Night Listener</th>\n",
       "      <th>You, Me and Dupree</th>\n",
       "    </tr>\n",
       "  </thead>\n",
       "  <tbody>\n",
       "    <tr>\n",
       "      <th>Lisa Rose</th>\n",
       "      <td>3.0</td>\n",
       "      <td>2.5</td>\n",
       "      <td>3.5</td>\n",
       "      <td>3.5</td>\n",
       "      <td>3.0</td>\n",
       "      <td>2.5</td>\n",
       "    </tr>\n",
       "    <tr>\n",
       "      <th>Gene Seymour</th>\n",
       "      <td>1.5</td>\n",
       "      <td>3.0</td>\n",
       "      <td>3.5</td>\n",
       "      <td>5.0</td>\n",
       "      <td>3.0</td>\n",
       "      <td>3.5</td>\n",
       "    </tr>\n",
       "    <tr>\n",
       "      <th>Michael Phillips</th>\n",
       "      <td>NaN</td>\n",
       "      <td>2.5</td>\n",
       "      <td>3.0</td>\n",
       "      <td>3.5</td>\n",
       "      <td>4.0</td>\n",
       "      <td>NaN</td>\n",
       "    </tr>\n",
       "    <tr>\n",
       "      <th>Claudia Puig</th>\n",
       "      <td>3.0</td>\n",
       "      <td>NaN</td>\n",
       "      <td>3.5</td>\n",
       "      <td>4.0</td>\n",
       "      <td>4.5</td>\n",
       "      <td>2.5</td>\n",
       "    </tr>\n",
       "    <tr>\n",
       "      <th>Mick LaSalle</th>\n",
       "      <td>2.0</td>\n",
       "      <td>3.0</td>\n",
       "      <td>4.0</td>\n",
       "      <td>3.0</td>\n",
       "      <td>3.0</td>\n",
       "      <td>2.0</td>\n",
       "    </tr>\n",
       "    <tr>\n",
       "      <th>Jack Matthews</th>\n",
       "      <td>NaN</td>\n",
       "      <td>3.0</td>\n",
       "      <td>4.0</td>\n",
       "      <td>5.0</td>\n",
       "      <td>3.0</td>\n",
       "      <td>3.5</td>\n",
       "    </tr>\n",
       "    <tr>\n",
       "      <th>Toby</th>\n",
       "      <td>NaN</td>\n",
       "      <td>NaN</td>\n",
       "      <td>4.5</td>\n",
       "      <td>4.0</td>\n",
       "      <td>NaN</td>\n",
       "      <td>1.0</td>\n",
       "    </tr>\n",
       "  </tbody>\n",
       "</table>\n",
       "</div>"
      ],
      "text/plain": [
       "                  Just My Luck  Lady in the Water  Snakes on a Plane  \\\n",
       "Lisa Rose                  3.0                2.5                3.5   \n",
       "Gene Seymour               1.5                3.0                3.5   \n",
       "Michael Phillips           NaN                2.5                3.0   \n",
       "Claudia Puig               3.0                NaN                3.5   \n",
       "Mick LaSalle               2.0                3.0                4.0   \n",
       "Jack Matthews              NaN                3.0                4.0   \n",
       "Toby                       NaN                NaN                4.5   \n",
       "\n",
       "                  Superman Returns  The Night Listener  You, Me and Dupree  \n",
       "Lisa Rose                      3.5                 3.0                 2.5  \n",
       "Gene Seymour                   5.0                 3.0                 3.5  \n",
       "Michael Phillips               3.5                 4.0                 NaN  \n",
       "Claudia Puig                   4.0                 4.5                 2.5  \n",
       "Mick LaSalle                   3.0                 3.0                 2.0  \n",
       "Jack Matthews                  5.0                 3.0                 3.5  \n",
       "Toby                           4.0                 NaN                 1.0  "
      ]
     },
     "execution_count": 84,
     "metadata": {},
     "output_type": "execute_result"
    }
   ],
   "source": [
    "df = critics.T\n",
    "df"
   ]
  },
  {
   "cell_type": "code",
   "execution_count": 85,
   "metadata": {},
   "outputs": [
    {
     "data": {
      "text/html": [
       "<div>\n",
       "<style scoped>\n",
       "    .dataframe tbody tr th:only-of-type {\n",
       "        vertical-align: middle;\n",
       "    }\n",
       "\n",
       "    .dataframe tbody tr th {\n",
       "        vertical-align: top;\n",
       "    }\n",
       "\n",
       "    .dataframe thead th {\n",
       "        text-align: right;\n",
       "    }\n",
       "</style>\n",
       "<table border=\"1\" class=\"dataframe\">\n",
       "  <thead>\n",
       "    <tr style=\"text-align: right;\">\n",
       "      <th></th>\n",
       "      <th>Just My Luck</th>\n",
       "      <th>Lady in the Water</th>\n",
       "      <th>Snakes on a Plane</th>\n",
       "      <th>Superman Returns</th>\n",
       "      <th>The Night Listener</th>\n",
       "      <th>You, Me and Dupree</th>\n",
       "      <th>similarity</th>\n",
       "    </tr>\n",
       "  </thead>\n",
       "  <tbody>\n",
       "    <tr>\n",
       "      <th>Lisa Rose</th>\n",
       "      <td>2.973722</td>\n",
       "      <td>2.478102</td>\n",
       "      <td>3.469342</td>\n",
       "      <td>3.469342</td>\n",
       "      <td>2.973722</td>\n",
       "      <td>2.478102</td>\n",
       "      <td>0.991241</td>\n",
       "    </tr>\n",
       "    <tr>\n",
       "      <th>Gene Seymour</th>\n",
       "      <td>0.571870</td>\n",
       "      <td>1.143739</td>\n",
       "      <td>1.334362</td>\n",
       "      <td>1.906232</td>\n",
       "      <td>1.143739</td>\n",
       "      <td>1.334362</td>\n",
       "      <td>0.381246</td>\n",
       "    </tr>\n",
       "    <tr>\n",
       "      <th>Michael Phillips</th>\n",
       "      <td>NaN</td>\n",
       "      <td>-2.500000</td>\n",
       "      <td>-3.000000</td>\n",
       "      <td>-3.500000</td>\n",
       "      <td>-4.000000</td>\n",
       "      <td>NaN</td>\n",
       "      <td>-1.000000</td>\n",
       "    </tr>\n",
       "    <tr>\n",
       "      <th>Claudia Puig</th>\n",
       "      <td>2.680215</td>\n",
       "      <td>NaN</td>\n",
       "      <td>3.126918</td>\n",
       "      <td>3.573621</td>\n",
       "      <td>4.020323</td>\n",
       "      <td>2.233513</td>\n",
       "      <td>0.893405</td>\n",
       "    </tr>\n",
       "    <tr>\n",
       "      <th>Mick LaSalle</th>\n",
       "      <td>1.848947</td>\n",
       "      <td>2.773420</td>\n",
       "      <td>3.697894</td>\n",
       "      <td>2.773420</td>\n",
       "      <td>2.773420</td>\n",
       "      <td>1.848947</td>\n",
       "      <td>0.924473</td>\n",
       "    </tr>\n",
       "    <tr>\n",
       "      <th>Jack Matthews</th>\n",
       "      <td>NaN</td>\n",
       "      <td>1.988547</td>\n",
       "      <td>2.651396</td>\n",
       "      <td>3.314245</td>\n",
       "      <td>1.988547</td>\n",
       "      <td>2.319971</td>\n",
       "      <td>0.662849</td>\n",
       "    </tr>\n",
       "  </tbody>\n",
       "</table>\n",
       "</div>"
      ],
      "text/plain": [
       "                  Just My Luck  Lady in the Water  Snakes on a Plane  \\\n",
       "Lisa Rose             2.973722           2.478102           3.469342   \n",
       "Gene Seymour          0.571870           1.143739           1.334362   \n",
       "Michael Phillips           NaN          -2.500000          -3.000000   \n",
       "Claudia Puig          2.680215                NaN           3.126918   \n",
       "Mick LaSalle          1.848947           2.773420           3.697894   \n",
       "Jack Matthews              NaN           1.988547           2.651396   \n",
       "\n",
       "                  Superman Returns  The Night Listener  You, Me and Dupree  \\\n",
       "Lisa Rose                 3.469342            2.973722            2.478102   \n",
       "Gene Seymour              1.906232            1.143739            1.334362   \n",
       "Michael Phillips         -3.500000           -4.000000                 NaN   \n",
       "Claudia Puig              3.573621            4.020323            2.233513   \n",
       "Mick LaSalle              2.773420            2.773420            1.848947   \n",
       "Jack Matthews             3.314245            1.988547            2.319971   \n",
       "\n",
       "                  similarity  \n",
       "Lisa Rose           0.991241  \n",
       "Gene Seymour        0.381246  \n",
       "Michael Phillips   -1.000000  \n",
       "Claudia Puig        0.893405  \n",
       "Mick LaSalle        0.924473  \n",
       "Jack Matthews       0.662849  "
      ]
     },
     "execution_count": 85,
     "metadata": {},
     "output_type": "execute_result"
    }
   ],
   "source": [
    "similarity = critics.corr().Toby\n",
    "df = df.apply(lambda col: col * similarity)\n",
    "df['similarity'] = similarity\n",
    "df = df.drop('Toby')\n",
    "df"
   ]
  },
  {
   "cell_type": "code",
   "execution_count": 86,
   "metadata": {},
   "outputs": [
    {
     "data": {
      "text/plain": [
       "Just My Luck    8.074754\n",
       "similarity      3.190366\n",
       "dtype: float64"
      ]
     },
     "execution_count": 86,
     "metadata": {},
     "output_type": "execute_result"
    }
   ],
   "source": [
    "movie = df.loc[:, ['Just My Luck', 'similarity']].dropna()\n",
    "movie.sum()"
   ]
  },
  {
   "cell_type": "code",
   "execution_count": 87,
   "metadata": {},
   "outputs": [
    {
     "data": {
      "text/plain": [
       "2.5309807037655645"
      ]
     },
     "execution_count": 87,
     "metadata": {},
     "output_type": "execute_result"
    }
   ],
   "source": [
    "ranking = movie.sum()['Just My Luck'] / movie.sum()['similarity']\n",
    "ranking"
   ]
  }
 ],
 "metadata": {
  "kernelspec": {
   "display_name": "Python 3",
   "language": "python",
   "name": "python3"
  },
  "language_info": {
   "codemirror_mode": {
    "name": "ipython",
    "version": 3
   },
   "file_extension": ".py",
   "mimetype": "text/x-python",
   "name": "python",
   "nbconvert_exporter": "python",
   "pygments_lexer": "ipython3",
   "version": "3.6.5"
  }
 },
 "nbformat": 4,
 "nbformat_minor": 2
}
